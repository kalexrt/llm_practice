{
 "cells": [
  {
   "cell_type": "code",
   "execution_count": 93,
   "metadata": {},
   "outputs": [],
   "source": [
    "import os\n",
    "import requests\n",
    "from langchain_openai import ChatOpenAI\n",
    "from langchain.prompts import ChatPromptTemplate, MessagesPlaceholder\n",
    "from langchain.agents import tool\n",
    "from langchain.agents import AgentExecutor\n",
    "from langchain.agents.format_scratchpad.openai_tools import format_to_openai_tool_messages \n",
    "from langchain.agents.output_parsers.openai_tools import OpenAIToolsAgentOutputParser\n",
    "\n",
    "llm = ChatOpenAI(temperature=0)"
   ]
  },
  {
   "cell_type": "code",
   "execution_count": 94,
   "metadata": {},
   "outputs": [],
   "source": [
    "@tool\n",
    "def get_weather_data(city:str):\n",
    "    \"\"\"\n",
    "    Calls the weather Api and returns the weather data\n",
    "\n",
    "    Args:\n",
    "    city:str\n",
    "\n",
    "    Returns:\n",
    "    str\n",
    "    \"\"\"\n",
    "    url = f\"http://api.openweathermap.org/data/2.5/weather?q={city}&appid={os.getenv('WEATHER_API_KEY')}&units=metric\"\n",
    "    response = requests.get(url)\n",
    "\n",
    "    return str(response.json())"
   ]
  },
  {
   "cell_type": "code",
   "execution_count": 95,
   "metadata": {},
   "outputs": [],
   "source": [
    "@tool\n",
    "def get_city_name(location: str) -> str:\n",
    "    \"\"\"Calls the Location API and returns the address data\n",
    "    Args:\n",
    "        location: str\n",
    "    Returns:\n",
    "        str\n",
    "    \"\"\"\n",
    "    url = f\"https://nominatim.openstreetmap.org/search?q={location}&format=json&limit=1\"\n",
    "    headers = {\n",
    "    'User-Agent': 'MyGeocodingApp/1.0 (your-email@example.com)'\n",
    "}\n",
    "    response = requests.get(url, headers=headers)\n",
    "    if(len(response.json()) > 0):\n",
    "        return response.json()[0]\n",
    "    return \"City not found\""
   ]
  },
  {
   "cell_type": "code",
   "execution_count": 96,
   "metadata": {},
   "outputs": [],
   "source": [
    "prompt = ChatPromptTemplate.from_messages(\n",
    "    [(\n",
    "        \"system\",\n",
    "        \"\"\"\n",
    "        You are a very powerful weather data expert designed to provide users with accurate and up-to-date weather information. Your main functions include:\n",
    "\n",
    "        1. Call the API: Retrieve weather information using the location provided by the user. Ensure you include parameters for current weather, forecasts, and any relevant alerts.\n",
    "        2. Display Information: Present all available details from the API response, including:\n",
    "            Current temperature\n",
    "            High and low temperatures\n",
    "            Feels like temperature\n",
    "            Humidity\n",
    "            Wind speed\n",
    "            Sunrise and sunset times\n",
    "            Any additional relevant weather conditions or alerts\n",
    "        3. Validate Location: If the user provides an invalid city name, use a tool to find and suggest a valid city name in English.\n",
    "        Respond in a clear and organized manner to ensure users receive comprehensive and easy-to-understand weather updates. Refer to the examples below:\n",
    "\n",
    "        # Examples\n",
    "        ## Example 1: Valid City Name\n",
    "\n",
    "        User Input: \"What's the weather in San Francisco?\"\n",
    "\n",
    "        System Response: \"Sure! Here is the current weather in San Francisco:\n",
    "\n",
    "            Temperature: 65°F\n",
    "            High/Low: 70°F / 55°F\n",
    "            Feels Like: 63°F\n",
    "            Humidity: 75%\n",
    "            Wind Speed: 8 mph\n",
    "            Sunrise: 6:45 AM\n",
    "            Sunset: 7:15 PM\n",
    "            Conditions: Partly cloudy\n",
    "\n",
    "        Let me know if you need any additional information!\"\n",
    "\n",
    "        ## Example 2: Invalid City Name\n",
    "\n",
    "        User Input: \"What's the weather in Springfield?\"\n",
    "\n",
    "        System Response: \"I found multiple locations with the name 'Springfield.' Could you please specify the state or provide additional details? For example, Springfield, IL or Springfield, MA.\"\n",
    "        \n",
    "        ## Example 3: Location Not Specified\n",
    "\n",
    "        User Input: \"I need the weather forecast.\"\n",
    "\n",
    "        System Response: \"Please provide a city name or location so I can retrieve the weather forecast for you. For example, 'New York City' or 'London.'\"\n",
    "        \n",
    "        ## Example 4: Weather Alert\n",
    "\n",
    "        User Input: \"Are there any weather alerts for Miami?\"\n",
    "\n",
    "        System Response: \"Here is the current weather for Miami:\n",
    "\n",
    "            Temperature: 82°F\n",
    "            High/Low: 86°F / 78°F\n",
    "            Feels Like: 88°F\n",
    "            Humidity: 85%\n",
    "            Wind Speed: 12 mph\n",
    "            Sunrise: 6:30 AM\n",
    "            Sunset: 7:00 PM\n",
    "            Conditions: Thunderstorms\n",
    "\n",
    "        Alert: Severe thunderstorm warning in effect until 8:00 PM. Please take necessary precautions.\"\n",
    "        \"\"\"\n",
    "    ),\n",
    "    (\"user\", \"{input}\"),\n",
    "    MessagesPlaceholder(variable_name=\"agent_scratchpad\")\n",
    "    ]\n",
    ")"
   ]
  },
  {
   "cell_type": "code",
   "execution_count": 97,
   "metadata": {},
   "outputs": [],
   "source": [
    "tools = [get_city_name ,get_weather_data]"
   ]
  },
  {
   "cell_type": "code",
   "execution_count": 98,
   "metadata": {},
   "outputs": [],
   "source": [
    "llm_with_tools = llm.bind_tools(tools)"
   ]
  },
  {
   "cell_type": "code",
   "execution_count": 99,
   "metadata": {},
   "outputs": [],
   "source": [
    "agent = (\n",
    "    {\n",
    "        \"input\": lambda x: x[\"input\"],\n",
    "        \"agent_scratchpad\": lambda x: format_to_openai_tool_messages(\n",
    "            x[\"intermediate_steps\"]\n",
    "        ),\n",
    "    }\n",
    "    | prompt\n",
    "    | llm_with_tools\n",
    "    | OpenAIToolsAgentOutputParser()\n",
    ")"
   ]
  },
  {
   "cell_type": "code",
   "execution_count": 100,
   "metadata": {},
   "outputs": [],
   "source": [
    "agent_executor = AgentExecutor(agent=agent, tools=tools, verbose=True)"
   ]
  },
  {
   "cell_type": "code",
   "execution_count": 101,
   "metadata": {},
   "outputs": [
    {
     "name": "stdout",
     "output_type": "stream",
     "text": [
      "\n",
      "\n",
      "\u001b[1m> Entering new AgentExecutor chain...\u001b[0m\n",
      "\u001b[32;1m\u001b[1;3m\n",
      "Invoking: `get_weather_data` with `{'city': 'Nice'}`\n",
      "\n",
      "\n",
      "\u001b[0m\u001b[33;1m\u001b[1;3m{'coord': {'lon': 7.25, 'lat': 44}, 'weather': [{'id': 501, 'main': 'Rain', 'description': 'moderate rain', 'icon': '10d'}], 'base': 'stations', 'main': {'temp': 15.83, 'feels_like': 15.4, 'temp_min': 14.31, 'temp_max': 17.5, 'pressure': 1016, 'humidity': 74, 'sea_level': 1016, 'grnd_level': 870}, 'visibility': 7515, 'wind': {'speed': 2.08, 'deg': 183, 'gust': 2.01}, 'rain': {'1h': 3.07}, 'clouds': {'all': 100}, 'dt': 1725450247, 'sys': {'type': 2, 'id': 2085874, 'country': 'FR', 'sunrise': 1725425886, 'sunset': 1725472932}, 'timezone': 7200, 'id': 2990439, 'name': 'Arrondissement de Nice', 'cod': 200}\u001b[0m\u001b[32;1m\u001b[1;3mSure! Here is the current weather in Nice:\n",
      "\n",
      "- Temperature: 15.83°C\n",
      "- High/Low: 17.5°C / 14.31°C\n",
      "- Feels Like: 15.4°C\n",
      "- Humidity: 74%\n",
      "- Wind Speed: 2.08 m/s\n",
      "- Sunrise: 5:38 AM\n",
      "- Sunset: 6:08 PM\n",
      "- Conditions: Moderate rain\n",
      "\n",
      "Let me know if you need any additional information!\u001b[0m\n",
      "\n",
      "\u001b[1m> Finished chain.\u001b[0m\n"
     ]
    }
   ],
   "source": [
    "result=list(agent_executor.stream({\"input\": \"what is the weather like in nice\"}))"
   ]
  },
  {
   "cell_type": "code",
   "execution_count": 102,
   "metadata": {},
   "outputs": [
    {
     "name": "stdout",
     "output_type": "stream",
     "text": [
      "Sure! Here is the current weather in Nice:\n",
      "\n",
      "- Temperature: 15.83°C\n",
      "- High/Low: 17.5°C / 14.31°C\n",
      "- Feels Like: 15.4°C\n",
      "- Humidity: 74%\n",
      "- Wind Speed: 2.08 m/s\n",
      "- Sunrise: 5:38 AM\n",
      "- Sunset: 6:08 PM\n",
      "- Conditions: Moderate rain\n",
      "\n",
      "Let me know if you need any additional information!\n"
     ]
    }
   ],
   "source": [
    "print(result[-1][\"output\"])"
   ]
  }
 ],
 "metadata": {
  "kernelspec": {
   "display_name": "Python 3",
   "language": "python",
   "name": "python3"
  },
  "language_info": {
   "codemirror_mode": {
    "name": "ipython",
    "version": 3
   },
   "file_extension": ".py",
   "mimetype": "text/x-python",
   "name": "python",
   "nbconvert_exporter": "python",
   "pygments_lexer": "ipython3",
   "version": "3.10.12"
  },
  "orig_nbformat": 4
 },
 "nbformat": 4,
 "nbformat_minor": 2
}
