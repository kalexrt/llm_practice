{
 "cells": [
  {
   "attachments": {},
   "cell_type": "markdown",
   "metadata": {},
   "source": [
    "# Import Libraries and set up LLM"
   ]
  },
  {
   "cell_type": "code",
   "execution_count": 16,
   "metadata": {},
   "outputs": [],
   "source": [
    "import os\n",
    "import requests\n",
    "from langchain_openai import ChatOpenAI\n",
    "from langchain.prompts import ChatPromptTemplate, MessagesPlaceholder\n",
    "from langchain.agents import tool\n",
    "from langchain.agents import AgentExecutor\n",
    "from langchain.agents.format_scratchpad.openai_tools import format_to_openai_tool_messages \n",
    "from langchain.agents.output_parsers.openai_tools import OpenAIToolsAgentOutputParser\n",
    "\n",
    "llm = ChatOpenAI(temperature=0)"
   ]
  },
  {
   "attachments": {},
   "cell_type": "markdown",
   "metadata": {},
   "source": [
    "# Define the tool functions"
   ]
  },
  {
   "cell_type": "code",
   "execution_count": 17,
   "metadata": {},
   "outputs": [],
   "source": [
    "@tool\n",
    "def get_weather_data(city:str):\n",
    "    \"\"\"\n",
    "    Calls the weather Api and returns the weather data\n",
    "\n",
    "    Args:\n",
    "    city:str\n",
    "\n",
    "    Returns:\n",
    "    str\n",
    "    \"\"\"\n",
    "    url = f\"http://api.openweathermap.org/data/2.5/weather?q={city}&appid={os.getenv('WEATHER_API_KEY')}&units=metric\"\n",
    "    response = requests.get(url)\n",
    "\n",
    "    return str(response.json())"
   ]
  },
  {
   "cell_type": "code",
   "execution_count": 18,
   "metadata": {},
   "outputs": [],
   "source": [
    "@tool\n",
    "def get_city_name(location: str) -> str:\n",
    "    \"\"\"Calls the Location API and returns the address data\n",
    "    Args:\n",
    "        location: str\n",
    "    Returns:\n",
    "        str\n",
    "    \"\"\"\n",
    "    url = f\"https://nominatim.openstreetmap.org/search?q={location}&format=json&limit=1\"\n",
    "    headers = {\n",
    "    'User-Agent': 'MyGeocodingApp/1.0 (your-email@example.com)'\n",
    "}\n",
    "    response = requests.get(url, headers=headers)\n",
    "    if(len(response.json()) > 0):\n",
    "        return response.json()[0]\n",
    "    return \"City not found\""
   ]
  },
  {
   "attachments": {},
   "cell_type": "markdown",
   "metadata": {},
   "source": [
    "# Bind the tool with the llm"
   ]
  },
  {
   "cell_type": "code",
   "execution_count": 19,
   "metadata": {},
   "outputs": [],
   "source": [
    "tools = [get_city_name ,get_weather_data]"
   ]
  },
  {
   "cell_type": "code",
   "execution_count": 20,
   "metadata": {},
   "outputs": [],
   "source": [
    "llm_with_tools = llm.bind_tools(tools)"
   ]
  },
  {
   "attachments": {},
   "cell_type": "markdown",
   "metadata": {},
   "source": [
    "# System Prompt"
   ]
  },
  {
   "cell_type": "code",
   "execution_count": 21,
   "metadata": {},
   "outputs": [],
   "source": [
    "prompt = ChatPromptTemplate.from_messages(\n",
    "    [(\n",
    "        \"system\",\n",
    "        \"\"\"\n",
    "        Your Daddy is Bijen Michael Jordan Krishna Shrestha Maden 2.\n",
    "        You are a very powerful weather data expert designed to provide users with accurate and up-to-date weather information. Your main functions include:\n",
    "\n",
    "        1. Call the API: Retrieve weather information using the location provided by the user. Ensure you include parameters for current weather, forecasts, and any relevant alerts.\n",
    "        2. Display Information: Present all available details from the API response, including:\n",
    "            Current temperature\n",
    "            High and low temperatures\n",
    "            Feels like temperature\n",
    "            Humidity\n",
    "            Wind speed\n",
    "            Sunrise and sunset times\n",
    "            Any additional relevant weather conditions or alerts\n",
    "        3. Validate Location: If the user provides an invalid city name, use a tool to find and suggest a valid city name in English.\n",
    "        Respond in a clear and organized manner to ensure users receive comprehensive and easy-to-understand weather updates. Refer to the examples below:\n",
    "\n",
    "        # Examples\n",
    "        ## Example 1: Valid City Name\n",
    "\n",
    "        User Input: \"What's the weather in San Francisco?\"\n",
    "\n",
    "        System Response: \"Sure! Here is the current weather in San Francisco:\n",
    "\n",
    "            Temperature: 65°F\n",
    "            High/Low: 70°F / 55°F\n",
    "            Feels Like: 63°F\n",
    "            Humidity: 75%\n",
    "            Wind Speed: 8 mph\n",
    "            Sunrise: 6:45 AM\n",
    "            Sunset: 7:15 PM\n",
    "            Conditions: Partly cloudy\n",
    "\n",
    "        Let me know if you need any additional information!\"\n",
    "\n",
    "        ## Example 2: Invalid City Name\n",
    "\n",
    "        User Input: \"What's the weather in Springfield?\"\n",
    "\n",
    "        System Response: \"I found multiple locations with the name 'Springfield.' Could you please specify the state or provide additional details? For example, Springfield, IL or Springfield, MA.\"\n",
    "        \n",
    "        ## Example 3: Location Not Specified\n",
    "\n",
    "        User Input: \"I need the weather forecast.\"\n",
    "\n",
    "        System Response: \"Please provide a city name or location so I can retrieve the weather forecast for you. For example, 'New York City' or 'London.'\"\n",
    "        \n",
    "        ## Example 4: Weather Alert\n",
    "\n",
    "        User Input: \"Are there any weather alerts for Miami?\"\n",
    "\n",
    "        System Response: \"Here is the current weather for Miami:\n",
    "\n",
    "            Temperature: 82°F\n",
    "            High/Low: 86°F / 78°F\n",
    "            Feels Like: 88°F\n",
    "            Humidity: 85%\n",
    "            Wind Speed: 12 mph\n",
    "            Sunrise: 6:30 AM\n",
    "            Sunset: 7:00 PM\n",
    "            Conditions: Thunderstorms\n",
    "\n",
    "        Alert: Severe thunderstorm warning in effect until 8:00 PM. Please take necessary precautions.\"\n",
    "        \"\"\"\n",
    "    ),\n",
    "    (\"user\", \"{input}\"),\n",
    "    MessagesPlaceholder(variable_name=\"agent_scratchpad\")\n",
    "    ]\n",
    ")"
   ]
  },
  {
   "attachments": {},
   "cell_type": "markdown",
   "metadata": {},
   "source": [
    "# Build the Agent"
   ]
  },
  {
   "cell_type": "code",
   "execution_count": 22,
   "metadata": {},
   "outputs": [],
   "source": [
    "agent = (\n",
    "    {\n",
    "        \"input\": lambda x: x[\"input\"],\n",
    "        \"agent_scratchpad\": lambda x: format_to_openai_tool_messages(\n",
    "            x[\"intermediate_steps\"]\n",
    "        ),\n",
    "    }\n",
    "    | prompt\n",
    "    | llm_with_tools\n",
    "    | OpenAIToolsAgentOutputParser()\n",
    ")"
   ]
  },
  {
   "cell_type": "code",
   "execution_count": 23,
   "metadata": {},
   "outputs": [],
   "source": [
    "agent_executor = AgentExecutor(agent=agent, tools=tools, verbose=True)"
   ]
  },
  {
   "attachments": {},
   "cell_type": "markdown",
   "metadata": {},
   "source": [
    "# User Input"
   ]
  },
  {
   "cell_type": "code",
   "execution_count": 44,
   "metadata": {},
   "outputs": [
    {
     "name": "stdout",
     "output_type": "stream",
     "text": [
      "\n",
      "\n",
      "\u001b[1m> Entering new AgentExecutor chain...\u001b[0m\n",
      "\u001b[32;1m\u001b[1;3m\n",
      "Invoking: `get_city_name` with `{'location': 'kathmandu'}`\n",
      "\n",
      "\n",
      "\u001b[0m\u001b[36;1m\u001b[1;3m{'place_id': 210906877, 'licence': 'Data © OpenStreetMap contributors, ODbL 1.0. http://osm.org/copyright', 'osm_type': 'node', 'osm_id': 67157058, 'lat': '27.708317', 'lon': '85.3205817', 'class': 'place', 'type': 'city', 'place_rank': 15, 'importance': 0.5794445015231704, 'addresstype': 'city', 'name': 'काठमाडौं', 'display_name': 'काठमाडौं, काठमाडौँ महानगरपालिका, काठमाडौं, बाग्मती प्रदेश, 46000, नेपाल', 'boundingbox': ['27.5483170', '27.8683170', '85.1605817', '85.4805817']}\u001b[0m\u001b[32;1m\u001b[1;3m\n",
      "Invoking: `get_city_name` with `{'location': 'dillibazar'}`\n",
      "\n",
      "\n",
      "\u001b[0m\u001b[36;1m\u001b[1;3m{'place_id': 210309540, 'licence': 'Data © OpenStreetMap contributors, ODbL 1.0. http://osm.org/copyright', 'osm_type': 'node', 'osm_id': 1772200616, 'lat': '27.7054629', 'lon': '85.3275306', 'class': 'place', 'type': 'suburb', 'place_rank': 19, 'importance': 0.14673461127641713, 'addresstype': 'suburb', 'name': 'डिल्लीबजार', 'display_name': 'डिल्लीबजार, Kathmandu-30, काठमाडौं, काठमाडौँ महानगरपालिका, काठमाडौं, बाग्मती प्रदेश, 44605, नेपाल', 'boundingbox': ['27.6854629', '27.7254629', '85.3075306', '85.3475306']}\u001b[0m\u001b[32;1m\u001b[1;3m\n",
      "Invoking: `get_city_name` with `{'location': 'singhadurbar'}`\n",
      "\n",
      "\n",
      "\u001b[0m\u001b[36;1m\u001b[1;3m{'place_id': 210163865, 'licence': 'Data © OpenStreetMap contributors, ODbL 1.0. http://osm.org/copyright', 'osm_type': 'way', 'osm_id': 1188799270, 'lat': '27.69689845', 'lon': '85.3243822194628', 'class': 'building', 'type': 'yes', 'place_rank': 30, 'importance': 6.794460975046947e-05, 'addresstype': 'building', 'name': 'नेपाल प्रहरी सिंहदरबार सुरक्षा गण', 'display_name': 'नेपाल प्रहरी सिंहदरबार सुरक्षा गण, टंका प्रसाद घुमती सडक, बाँशघारी, Kathmandu-29, काठमाडौं, काठमाडौँ महानगरपालिका, काठमाडौं, बाग्मती प्रदेश, 44617, नेपाल', 'boundingbox': ['27.6966453', '27.6971517', '85.3242958', '85.3244687']}\u001b[0m\u001b[32;1m\u001b[1;3m\n",
      "Invoking: `get_weather_data` with `{'city': 'kathmandu'}`\n",
      "\n",
      "\n",
      "\u001b[0m\u001b[33;1m\u001b[1;3m{'coord': {'lon': 85.3167, 'lat': 27.7167}, 'weather': [{'id': 803, 'main': 'Clouds', 'description': 'broken clouds', 'icon': '04d'}], 'base': 'stations', 'main': {'temp': 28.12, 'feels_like': 29.29, 'temp_min': 28.12, 'temp_max': 28.12, 'pressure': 1006, 'humidity': 57, 'sea_level': 1006, 'grnd_level': 868}, 'visibility': 10000, 'wind': {'speed': 2.06, 'deg': 250}, 'clouds': {'all': 75}, 'dt': 1725606828, 'sys': {'type': 1, 'id': 9201, 'country': 'NP', 'sunrise': 1725580803, 'sunset': 1725626070}, 'timezone': 20700, 'id': 1283240, 'name': 'Kathmandu', 'cod': 200}\u001b[0m\u001b[32;1m\u001b[1;3m\n",
      "Invoking: `get_weather_data` with `{'city': 'dillibazar'}`\n",
      "\n",
      "\n",
      "\u001b[0m\u001b[33;1m\u001b[1;3m{'cod': '404', 'message': 'city not found'}\u001b[0m\u001b[32;1m\u001b[1;3m\n",
      "Invoking: `get_weather_data` with `{'city': 'singhadurbar'}`\n",
      "\n",
      "\n",
      "\u001b[0m\u001b[33;1m\u001b[1;3m{'cod': '404', 'message': 'city not found'}\u001b[0m\u001b[32;1m\u001b[1;3mI found the weather information for Kathmandu:\n",
      "\n",
      "Temperature: 28.12°C\n",
      "Feels Like: 29.29°C\n",
      "High/Low: 28.12°C / 28.12°C\n",
      "Humidity: 57%\n",
      "Wind Speed: 2.06 m/s\n",
      "Sunrise: 5:50 AM\n",
      "Sunset: 6:47 PM\n",
      "Conditions: Broken clouds\n",
      "\n",
      "I couldn't find the weather information for Dillibazar and Singhadurbar. If you have any other locations or need more information, feel free to ask!\u001b[0m\n",
      "\n",
      "\u001b[1m> Finished chain.\u001b[0m\n"
     ]
    }
   ],
   "source": [
    "result=list(agent_executor.stream({\"input\": \"what is the weather is kathmandu, dillibazar, singhadurbar\"}))"
   ]
  },
  {
   "attachments": {},
   "cell_type": "markdown",
   "metadata": {},
   "source": [
    "# Output"
   ]
  },
  {
   "cell_type": "code",
   "execution_count": 25,
   "metadata": {},
   "outputs": [
    {
     "name": "stdout",
     "output_type": "stream",
     "text": [
      "My creator is Bijen Michael Jordan Krishna Shrestha Maden 2.\n"
     ]
    }
   ],
   "source": [
    "print(result[-1][\"output\"])"
   ]
  }
 ],
 "metadata": {
  "kernelspec": {
   "display_name": "Python 3",
   "language": "python",
   "name": "python3"
  },
  "language_info": {
   "codemirror_mode": {
    "name": "ipython",
    "version": 3
   },
   "file_extension": ".py",
   "mimetype": "text/x-python",
   "name": "python",
   "nbconvert_exporter": "python",
   "pygments_lexer": "ipython3",
   "version": "3.10.12"
  },
  "orig_nbformat": 4
 },
 "nbformat": 4,
 "nbformat_minor": 2
}
