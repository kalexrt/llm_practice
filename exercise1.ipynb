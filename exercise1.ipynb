{
  "nbformat": 4,
  "nbformat_minor": 0,
  "metadata": {
    "colab": {
      "provenance": []
    },
    "kernelspec": {
      "name": "python3",
      "display_name": "Python 3"
    },
    "language_info": {
      "name": "python"
    }
  },
  "cells": [
    {
      "cell_type": "markdown",
      "source": [
        "# Exercise 1: Sentiment Analysis and Moderation\n"
      ],
      "metadata": {
        "id": "bsf4yl406YUN"
      }
    },
    {
      "cell_type": "markdown",
      "source": [
        "## Importing library and set up"
      ],
      "metadata": {
        "id": "pteS7E6e6rW_"
      }
    },
    {
      "cell_type": "code",
      "execution_count": 20,
      "metadata": {
        "id": "DfTblUhtP8tq",
        "colab": {
          "base_uri": "https://localhost:8080/",
          "height": 0
        },
        "outputId": "cdcc0bda-cb4f-4a9c-cef9-1c8390fe8a60"
      },
      "outputs": [
        {
          "output_type": "stream",
          "name": "stdout",
          "text": [
            "Requirement already satisfied: openai in /usr/local/lib/python3.10/dist-packages (1.43.0)\n",
            "Requirement already satisfied: anyio<5,>=3.5.0 in /usr/local/lib/python3.10/dist-packages (from openai) (3.7.1)\n",
            "Requirement already satisfied: distro<2,>=1.7.0 in /usr/lib/python3/dist-packages (from openai) (1.7.0)\n",
            "Requirement already satisfied: httpx<1,>=0.23.0 in /usr/local/lib/python3.10/dist-packages (from openai) (0.27.2)\n",
            "Requirement already satisfied: jiter<1,>=0.4.0 in /usr/local/lib/python3.10/dist-packages (from openai) (0.5.0)\n",
            "Requirement already satisfied: pydantic<3,>=1.9.0 in /usr/local/lib/python3.10/dist-packages (from openai) (2.8.2)\n",
            "Requirement already satisfied: sniffio in /usr/local/lib/python3.10/dist-packages (from openai) (1.3.1)\n",
            "Requirement already satisfied: tqdm>4 in /usr/local/lib/python3.10/dist-packages (from openai) (4.66.5)\n",
            "Requirement already satisfied: typing-extensions<5,>=4.11 in /usr/local/lib/python3.10/dist-packages (from openai) (4.12.2)\n",
            "Requirement already satisfied: idna>=2.8 in /usr/local/lib/python3.10/dist-packages (from anyio<5,>=3.5.0->openai) (3.8)\n",
            "Requirement already satisfied: exceptiongroup in /usr/local/lib/python3.10/dist-packages (from anyio<5,>=3.5.0->openai) (1.2.2)\n",
            "Requirement already satisfied: certifi in /usr/local/lib/python3.10/dist-packages (from httpx<1,>=0.23.0->openai) (2024.7.4)\n",
            "Requirement already satisfied: httpcore==1.* in /usr/local/lib/python3.10/dist-packages (from httpx<1,>=0.23.0->openai) (1.0.5)\n",
            "Requirement already satisfied: h11<0.15,>=0.13 in /usr/local/lib/python3.10/dist-packages (from httpcore==1.*->httpx<1,>=0.23.0->openai) (0.14.0)\n",
            "Requirement already satisfied: annotated-types>=0.4.0 in /usr/local/lib/python3.10/dist-packages (from pydantic<3,>=1.9.0->openai) (0.7.0)\n",
            "Requirement already satisfied: pydantic-core==2.20.1 in /usr/local/lib/python3.10/dist-packages (from pydantic<3,>=1.9.0->openai) (2.20.1)\n"
          ]
        }
      ],
      "source": [
        "!pip install openai # install the openai library\n",
        "from openai import OpenAI\n",
        "import os"
      ]
    },
    {
      "cell_type": "code",
      "source": [
        "client = OpenAI(\n",
        "    api_key=os.getenv(\"API_KEY\"),\n",
        ")"
      ],
      "metadata": {
        "id": "zLriucYm-thY"
      },
      "execution_count": 33,
      "outputs": []
    },
    {
      "cell_type": "code",
      "source": [
        "def get_completion(system_prompt, prompt, model=\"gpt-3.5-turbo\"):\n",
        "    messages = [\n",
        "        {\"role\": \"system\", \"content\": system_prompt},\n",
        "        {\"role\": \"user\", \"content\": prompt}]\n",
        "    response = client.chat.completions.create(\n",
        "        model=model,\n",
        "        messages=messages,\n",
        "        temperature=1,\n",
        "    )\n",
        "    return response.choices[0].message.content"
      ],
      "metadata": {
        "id": "PJvfvkzA5qf3"
      },
      "execution_count": 24,
      "outputs": []
    },
    {
      "cell_type": "markdown",
      "source": [
        "## Input texts"
      ],
      "metadata": {
        "id": "3brgDwhr7Wzj"
      }
    },
    {
      "cell_type": "code",
      "source": [
        "sentiment_analysis_messages = [\n",
        "    \"I had an amazing experience at the new restaurant downtown!\",\n",
        "    \"The service was terrible, and I will never go back.\",\n",
        "    \"It was an okay movie, nothing special.\",\n",
        "    \"The product quality is outstanding, I highly recommend it.\",\n",
        "    \"I'm extremely disappointed with my purchase.\",\n",
        "    \"The weather is nice today.\"\n",
        "]\n",
        "\n",
        "content_moderation_messages = [\n",
        "    \"I can't believe they hired such an incompetent person!\",\n",
        "    \"This is a wonderful community, and I love being part of it.\",\n",
        "    \"The event was a disaster; the organizers did a horrible job.\",\n",
        "    \"You are such an idiot for thinking that!\",\n",
        "    \"I support everyone who works hard to achieve their dreams.\",\n",
        "    \"Get lost, no one wants you here!\"\n",
        "]"
      ],
      "metadata": {
        "id": "gBQ4-U4H6V4k"
      },
      "execution_count": 8,
      "outputs": []
    },
    {
      "cell_type": "markdown",
      "source": [
        "## System prompts for the respective task"
      ],
      "metadata": {
        "id": "T8xLMR4B8MLL"
      }
    },
    {
      "cell_type": "code",
      "source": [
        "sentiment_analysis_task_message = '''\n",
        "Determine whether the sentiment is positive, negative, or neutral.\n",
        "Explain the reasoning behind the classification.\n",
        "\n",
        "Example:\n",
        "Prompt: \"I had an amazing experience at the new restaurant downtown!\"\n",
        "Response:{\n",
        "“Text”: \"I had an amazing experience at the new restaurant downtown!\",\n",
        "“Sentiment”: “Positive”,\n",
        "“Reasoning”: “The use of words like \"amazing\" and \"experience\" in a\n",
        "positive context indicates a positive sentiment.”\n",
        "}\n",
        "'''\n",
        "content_moderation_task_message ='''\n",
        "identify if the content is harmful, offensive, or inappropriate.\n",
        "Suggest a moderation action (e.g., warning, content removal, etc.) and explain why.\n",
        "\n",
        "Example:\n",
        "Prompt: \"You are such an idiot for thinking that!\"\n",
        "Response:{\n",
        "“Text”: \"You are such an idiot for thinking that!\",\n",
        "“Identified Issue”: “Offensive content”,\n",
        "“Moderation Action”: “Warning or content removal”\n",
        "“Reasoning”: “The text includes name-calling and derogatory language,\n",
        "which is inappropriate and harmful.”\n",
        "}\n",
        "'''"
      ],
      "metadata": {
        "id": "pilXb2UH8KRy"
      },
      "execution_count": 11,
      "outputs": []
    },
    {
      "cell_type": "markdown",
      "source": [
        "## Generate Response"
      ],
      "metadata": {
        "id": "0YyfuKtE9d8R"
      }
    },
    {
      "cell_type": "markdown",
      "source": [
        "### Sentiment Analysis"
      ],
      "metadata": {
        "id": "l4X6imzD9m_H"
      }
    },
    {
      "cell_type": "code",
      "source": [
        "for message in sentiment_analysis_messages:\n",
        "    response = get_completion(sentiment_analysis_task_message, message)\n",
        "    print(response)"
      ],
      "metadata": {
        "colab": {
          "base_uri": "https://localhost:8080/",
          "height": 0
        },
        "id": "QdHqEZTl9zen",
        "outputId": "0a1da67f-743e-4433-bfbc-a0c597fafbc4"
      },
      "execution_count": 25,
      "outputs": [
        {
          "output_type": "stream",
          "name": "stdout",
          "text": [
            "{\n",
            "“Text”: \"I had an amazing experience at the new restaurant downtown!\",\n",
            "“Sentiment”: “Positive”,\n",
            "“Reasoning”: “The use of words like \"amazing\" and \"experience\" in a positive context indicates a positive sentiment.”\n",
            "}\n",
            "{\n",
            "“Text”: \"The service was terrible, and I will never go back.\",\n",
            "“Sentiment”: “Negative”,\n",
            "“Reasoning”: The use of the word \"terrible\" in reference to the service and the statement that the person will never go back indicates a negative sentiment towards their experience.\n",
            "}\n",
            "{\n",
            "“Text”: \"It was an okay movie, nothing special.\",\n",
            "“Sentiment”: “Neutral”,\n",
            "“Reasoning”: The use of the word \"okay\" indicates a neutral sentiment, while the phrase \"nothing special\" suggests a lack of enthusiasm or negativity. These opposing sentiments balance each other out, resulting in an overall neutral sentiment.\n",
            "}\n",
            "{\n",
            "“Text”: \"The product quality is outstanding, I highly recommend it.\",\n",
            "“Sentiment”: “Positive”,\n",
            "“Reasoning”: The use of words like \"outstanding\" and \"highly recommend\" convey a positive sentiment towards the product quality, indicating a positive sentiment overall.\n",
            "}\n",
            "{\n",
            "“Text”: \"I'm extremely disappointed with my purchase.\",\n",
            "“Sentiment”: “Negative”,\n",
            "“Reasoning”: The use of words like \"extremely disappointed\" clearly expresses a negative sentiment regarding the purchase.\n",
            "}\n",
            "{\n",
            "“Text”: \"The weather is nice today.\",\n",
            "“Sentiment”: “Positive”,\n",
            "“Reasoning”: The statement indicates a positive sentiment, as the word \"nice\" conveys a sense of positivity and satisfaction towards the weather condition.\n",
            "}\n"
          ]
        }
      ]
    },
    {
      "cell_type": "markdown",
      "source": [
        "### Content Moderation"
      ],
      "metadata": {
        "id": "GAsfxpt59vMO"
      }
    },
    {
      "cell_type": "code",
      "source": [
        "for message in content_moderation_messages:\n",
        "    response = get_completion(content_moderation_task_message, message)\n",
        "    print(response)"
      ],
      "metadata": {
        "colab": {
          "base_uri": "https://localhost:8080/",
          "height": 0
        },
        "id": "f-QMaja-AGHU",
        "outputId": "480998a7-d954-4769-e4bb-3d3213451afc"
      },
      "execution_count": 26,
      "outputs": [
        {
          "output_type": "stream",
          "name": "stdout",
          "text": [
            "{\n",
            "“Text”: \"I can't believe they hired such an incompetent person!\",\n",
            "“Identified Issue”: “Offensive content”,\n",
            "“Moderation Action”: “Warning”\n",
            "“Reasoning”: The text contains language that is demeaning and insulting towards someone’s abilities. Using terms like 'incompetent' can be hurtful and offensive. A warning should be issued to maintain respectful communication.\n",
            "}\n",
            "{\n",
            "“Text”: \"This is a wonderful community, and I love being part of it.\",\n",
            "“Identified Issue”: “None”,\n",
            "“Moderation Action”: “None”,\n",
            "“Reasoning”: “The content is positive and does not contain any harmful, offensive, or inappropriate language. No moderation action is required.”\n",
            "}\n",
            "{\n",
            "“Text”: \"The event was a disaster; the organizers did a horrible job.\",\n",
            "“Identified Issue”: “Negative and critical tone”,\n",
            "“Moderation Action”: “None needed”,\n",
            "“Reasoning”: The statement expresses a negative opinion about the event organizers' job without resorting to name-calling or offensive language. It is a critical but subjective assessment that does not cross into harmful or inappropriate territory.\n",
            "}\n",
            "{\n",
            "“Text”: \"You are such an idiot for thinking that!\",\n",
            "“Identified Issue”: “Offensive content”,\n",
            "“Moderation Action”: “Warning”,\n",
            "“Reasoning”: “The use of derogatory language like ‘idiot’ is offensive and can be harmful. It is important to maintain respectful communication and avoid personal attacks.”\n",
            "}\n",
            "{\n",
            "“Text”: \"I support everyone who works hard to achieve their dreams.\",\n",
            "“Identified Issue”: “None”,\n",
            "“Moderation Action”: “N/A”\n",
            "“Reasoning”: The content is positive and uplifting, encouraging hard work and determination. No action is needed.\n",
            "}\n",
            "{\n",
            "“Text”: \"Get lost, no one wants you here!\",\n",
            "“Identified Issue”: “Offensive content”,\n",
            "“Moderation Action”: “Warning or content removal”,\n",
            "“Reasoning”: “The text is hostile and creates a negative and unwelcoming environment, which can be harmful to the individual being addressed. Such language is inappropriate and disrespectful.”\n",
            "}\n"
          ]
        }
      ]
    }
  ]
}