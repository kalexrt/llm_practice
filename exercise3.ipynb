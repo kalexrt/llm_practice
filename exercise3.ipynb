{
 "cells": [
  {
   "attachments": {},
   "cell_type": "markdown",
   "metadata": {},
   "source": [
    "## Importing libraries and setup llm"
   ]
  },
  {
   "cell_type": "code",
   "execution_count": 52,
   "metadata": {},
   "outputs": [],
   "source": [
    "import os"
   ]
  },
  {
   "cell_type": "code",
   "execution_count": 53,
   "metadata": {},
   "outputs": [],
   "source": [
    "from langchain.prompts import ChatPromptTemplate\n",
    "from langchain_openai import ChatOpenAI\n",
    "from langchain_core.output_parsers import StrOutputParser\n",
    "from langchain_core.runnables import RunnablePassthrough\n",
    "\n",
    "llm = ChatOpenAI(api_key=os.getenv(\"OPENAI_API_KEY\"))"
   ]
  },
  {
   "cell_type": "code",
   "execution_count": 54,
   "metadata": {},
   "outputs": [],
   "source": [
    "os.environ[\"LANGCHAIN_TRACING_V2\"]=\"true\"\n",
    "os.environ[\"LANGCHAIN_ENDPOINT\"]=\"https://api.smith.langchain.com\"\n",
    "os.environ[\"LANGCHAIN_API_KEY\"]=os.getenv(\"LANGCHAIN_API_KEY\")\n",
    "os.environ[\"LANGCHAIN_PROJECT\"]=\"assignment-3\""
   ]
  },
  {
   "attachments": {},
   "cell_type": "markdown",
   "metadata": {},
   "source": [
    "## Input data"
   ]
  },
  {
   "cell_type": "code",
   "execution_count": 55,
   "metadata": {},
   "outputs": [],
   "source": [
    "text_data='''\n",
    "Apple Inc. is an American multinational technology company headquartered in Cupertino,\n",
    "California, that designs, develops, and sells consumer electronics, computer software, and\n",
    "online services. It is considered one of the Big Five companies in the U.S. information\n",
    "technology industry, along with Amazon, Google, Microsoft, and Facebook.\n",
    "'''"
   ]
  },
  {
   "attachments": {},
   "cell_type": "markdown",
   "metadata": {},
   "source": [
    "## Chains"
   ]
  },
  {
   "attachments": {},
   "cell_type": "markdown",
   "metadata": {},
   "source": [
    "### Lower Case Chain"
   ]
  },
  {
   "cell_type": "code",
   "execution_count": 56,
   "metadata": {},
   "outputs": [],
   "source": [
    "lower_case_template='''\n",
    "Convert the following text to lowercase.\n",
    "{text}\n",
    "'''\n",
    "lower_case_prompt_template= ChatPromptTemplate.from_template(lower_case_template)\n",
    "\n",
    "lower_case_chain = lower_case_prompt_template | llm | StrOutputParser()"
   ]
  },
  {
   "attachments": {},
   "cell_type": "markdown",
   "metadata": {},
   "source": [
    "### Punctuation Removal Chain"
   ]
  },
  {
   "cell_type": "code",
   "execution_count": 57,
   "metadata": {},
   "outputs": [],
   "source": [
    "rm_punctuation_template='''\n",
    "Remove all punctuation from the following text\n",
    "{lower_case_output}\n",
    "'''\n",
    "rm_punctuation_prompt_template= ChatPromptTemplate.from_template(rm_punctuation_template)\n",
    "\n",
    "rm_punctuation_chain = rm_punctuation_prompt_template | llm | StrOutputParser()"
   ]
  },
  {
   "attachments": {},
   "cell_type": "markdown",
   "metadata": {},
   "source": [
    "### Named Entity Recognition Chain"
   ]
  },
  {
   "cell_type": "code",
   "execution_count": 58,
   "metadata": {},
   "outputs": [],
   "source": [
    "ner_template='''\n",
    "Identify and extract named entities from the text. They can be names of people, organizations, locations, etc. The output must be in  JSON format.\n",
    "{rm_punctuation_output}\n",
    "'''\n",
    "ner_prompt_template = ChatPromptTemplate.from_template(ner_template)\n",
    "\n",
    "ner_chain = ner_prompt_template | llm | StrOutputParser()"
   ]
  },
  {
   "attachments": {},
   "cell_type": "markdown",
   "metadata": {},
   "source": [
    "### Summarization Chain"
   ]
  },
  {
   "cell_type": "code",
   "execution_count": 59,
   "metadata": {},
   "outputs": [],
   "source": [
    "summarize_template='''\n",
    "Summarize the following text in one sentence.\n",
    "{text}\n",
    "'''\n",
    "\n",
    "summarize_prompt_template = ChatPromptTemplate.from_template(summarize_template)\n",
    "\n",
    "summarize_chain = summarize_prompt_template | llm | StrOutputParser()"
   ]
  },
  {
   "attachments": {},
   "cell_type": "markdown",
   "metadata": {},
   "source": [
    "## Sequential Chain"
   ]
  },
  {
   "cell_type": "code",
   "execution_count": 60,
   "metadata": {},
   "outputs": [],
   "source": [
    "sequential_chain = (\n",
    "    RunnablePassthrough.assign(lower_case_output = lower_case_chain) | \n",
    "    RunnablePassthrough.assign(rm_punctuation_output = rm_punctuation_chain) | \n",
    "    RunnablePassthrough.assign(ner_output = ner_chain) |\n",
    "    RunnablePassthrough.assign(summarize_output = summarize_chain))\n",
    "output = sequential_chain.invoke({\"text\":text_data})"
   ]
  },
  {
   "attachments": {},
   "cell_type": "markdown",
   "metadata": {},
   "source": [
    "## Output"
   ]
  },
  {
   "cell_type": "code",
   "execution_count": 61,
   "metadata": {},
   "outputs": [
    {
     "name": "stdout",
     "output_type": "stream",
     "text": [
      "text: \n",
      "Apple Inc. is an American multinational technology company headquartered in Cupertino,\n",
      "California, that designs, develops, and sells consumer electronics, computer software, and\n",
      "online services. It is considered one of the Big Five companies in the U.S. information\n",
      "technology industry, along with Amazon, Google, Microsoft, and Facebook.\n",
      "\n",
      "\n",
      "\n",
      "lower_case_output: apple inc. is an american multinational technology company headquartered in cupertino, california, that designs, develops, and sells consumer electronics, computer software, and online services. it is considered one of the big five companies in the u.s. information technology industry, along with amazon, google, microsoft, and facebook.\n",
      "\n",
      "\n",
      "rm_punctuation_output: apple inc is an american multinational technology company headquartered in cupertino california that designs develops and sells consumer electronics computer software and online services it is considered one of the big five companies in the us information technology industry along with amazon google microsoft and facebook\n",
      "\n",
      "\n",
      "ner_output: {\n",
      "  \"named_entities\": [\n",
      "    \"Apple Inc\",\n",
      "    \"American\",\n",
      "    \"Cupertino\",\n",
      "    \"California\",\n",
      "    \"Amazon\",\n",
      "    \"Google\",\n",
      "    \"Microsoft\",\n",
      "    \"Facebook\"\n",
      "  ]\n",
      "}\n",
      "\n",
      "\n",
      "summarize_output: Apple Inc. is a major American technology company known for designing and selling consumer electronics, software, and online services, and is one of the Big Five companies in the U.S. information technology industry.\n",
      "\n",
      "\n"
     ]
    }
   ],
   "source": [
    "for k,v in output.items():\n",
    "    print(f\"{k}: {v}\")\n",
    "    print(\"\\n\")\n",
    "    "
   ]
  }
 ],
 "metadata": {
  "kernelspec": {
   "display_name": "Python 3 (ipykernel)",
   "language": "python",
   "name": "python3"
  },
  "language_info": {
   "codemirror_mode": {
    "name": "ipython",
    "version": 3
   },
   "file_extension": ".py",
   "mimetype": "text/x-python",
   "name": "python",
   "nbconvert_exporter": "python",
   "pygments_lexer": "ipython3",
   "version": "3.10.12"
  }
 },
 "nbformat": 4,
 "nbformat_minor": 4
}
